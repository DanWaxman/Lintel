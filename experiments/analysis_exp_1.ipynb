{
 "cells": [
  {
   "cell_type": "code",
   "execution_count": 1,
   "metadata": {},
   "outputs": [],
   "source": [
    "import numpy as np\n",
    "from scipy import stats\n",
    "import matplotlib.pyplot as plt\n",
    "import seaborn as sns\n",
    "\n",
    "sns.set_theme(context=\"paper\", style=\"whitegrid\", palette=\"colorblind\")"
   ]
  },
  {
   "cell_type": "code",
   "execution_count": 2,
   "metadata": {},
   "outputs": [],
   "source": [
    "seeds = [0, 1, 2, 3, 4, 5, 6, 7, 8, 9]"
   ]
  },
  {
   "cell_type": "code",
   "execution_count": 3,
   "metadata": {},
   "outputs": [],
   "source": [
    "data_train_t = np.zeros((len(seeds), 2750))\n",
    "data_train_y = np.zeros((len(seeds), 2750))\n",
    "data_outliers = np.zeros((len(seeds), 10))\n",
    "results_m_intel = np.zeros((len(seeds), 2750))\n",
    "results_m_lintel = np.zeros((len(seeds), 2750))\n",
    "results_s_intel = np.zeros((len(seeds), 2750))\n",
    "results_s_lintel = np.zeros((len(seeds), 2750))\n",
    "results_t_intel = np.zeros((len(seeds),))\n",
    "results_t_lintel = np.zeros((len(seeds),))\n",
    "results_pll_intel = np.zeros((len(seeds),))\n",
    "results_pll_lintel = np.zeros((len(seeds),))\n",
    "results_nmse_intel = np.zeros((len(seeds),))\n",
    "results_nmse_lintel = np.zeros(\n",
    "    (len(seeds)),\n",
    ")\n",
    "\n",
    "for seed in seeds:\n",
    "    data = np.load(f\"results/experiment_1_seed_{seed}_geom_True_data.npz\")\n",
    "    train_t = data[\"train_t\"].squeeze()\n",
    "    pretrain_t = data[\"pretrain_t\"].squeeze()\n",
    "    train_y = data[\"train_y\"]\n",
    "    pretrain_y = data[\"pretrain_y\"]\n",
    "    true_outliers = data[\"true_outliers\"]\n",
    "\n",
    "    data_train_t[seed, :] = train_t\n",
    "    data_train_y[seed, :] = train_y\n",
    "    data_outliers[seed, :] = true_outliers\n",
    "\n",
    "    res_lintel = np.load(\n",
    "        f\"results/experiment_1_seed_{seed}_geom_True_lintel_results.npz\"\n",
    "    )\n",
    "    m_lintel = res_lintel[\"ms\"]\n",
    "    s_lintel = res_lintel[\"ss\"]\n",
    "    o_lintel = res_lintel[\"ots\"]\n",
    "    w_lintel = res_lintel[\"ws\"]\n",
    "    t_lintel = res_lintel[\"t_lintel\"]\n",
    "\n",
    "    res_intel = np.load(\n",
    "        f\"results/experiment_1_seed_{seed}_geom_True_intel_results.npz\")\n",
    "    m_intel = res_intel[\"ms\"]\n",
    "    s_intel = res_intel[\"ss\"]\n",
    "    o_intel = res_intel[\"ots\"]\n",
    "    w_intel = res_intel[\"ws\"]\n",
    "    t_intel = res_intel[\"t_intel\"]\n",
    "\n",
    "    results_m_lintel[seed, :] = m_lintel\n",
    "    results_s_lintel[seed, :] = s_lintel\n",
    "    results_m_intel[seed, :] = m_intel\n",
    "    results_s_intel[seed, :] = s_intel\n",
    "    results_t_lintel[seed] = t_lintel\n",
    "    results_t_intel[seed] = t_intel\n",
    "\n",
    "    intel_pll = stats.norm.logpdf(train_y, m_intel, np.sqrt(s_intel))\n",
    "    lintel_pll = stats.norm.logpdf(train_y, m_lintel, np.sqrt(s_lintel))\n",
    "    results_pll_intel[seed] = np.delete(intel_pll, true_outliers).mean()\n",
    "    results_pll_lintel[seed] = np.delete(lintel_pll, true_outliers).mean()\n",
    "\n",
    "    intel_nmse = (train_y - m_intel) ** 2 / np.var(train_y)\n",
    "    lintel_nmse = (train_y - m_lintel) ** 2 / np.var(train_y)\n",
    "    results_nmse_intel[seed] = np.delete(intel_nmse, true_outliers).mean()\n",
    "    results_nmse_lintel[seed] = np.delete(lintel_nmse, true_outliers).mean()"
   ]
  },
  {
   "cell_type": "code",
   "execution_count": 4,
   "metadata": {},
   "outputs": [
    {
     "data": {
      "text/plain": [
       "(-0.37738969389031124,\n",
       " 0.04922456030289805,\n",
       " -0.3683566178578995,\n",
       " 0.03907857272195923)"
      ]
     },
     "execution_count": 4,
     "metadata": {},
     "output_type": "execute_result"
    }
   ],
   "source": [
    "np.mean(results_pll_intel), np.std(results_pll_intel), np.mean(\n",
    "    results_pll_lintel\n",
    "), np.std(results_pll_lintel)"
   ]
  },
  {
   "cell_type": "code",
   "execution_count": 5,
   "metadata": {},
   "outputs": [
    {
     "data": {
      "text/plain": [
       "WilcoxonResult(statistic=2.0, pvalue=0.0029296875)"
      ]
     },
     "execution_count": 5,
     "metadata": {},
     "output_type": "execute_result"
    }
   ],
   "source": [
    "stats.wilcoxon(results_pll_intel, results_pll_lintel, alternative=\"less\")"
   ]
  },
  {
   "cell_type": "code",
   "execution_count": 6,
   "metadata": {},
   "outputs": [
    {
     "data": {
      "text/plain": [
       "(0.05545921564409443,\n",
       " 0.014053647799047487,\n",
       " 0.05446326347560423,\n",
       " 0.013150085311003373)"
      ]
     },
     "execution_count": 6,
     "metadata": {},
     "output_type": "execute_result"
    }
   ],
   "source": [
    "np.mean(results_nmse_intel), np.std(results_nmse_intel), np.mean(\n",
    "    results_nmse_lintel\n",
    "), np.std(results_nmse_lintel)"
   ]
  },
  {
   "cell_type": "code",
   "execution_count": 7,
   "metadata": {},
   "outputs": [
    {
     "data": {
      "text/plain": [
       "WilcoxonResult(statistic=54.0, pvalue=0.001953125)"
      ]
     },
     "execution_count": 7,
     "metadata": {},
     "output_type": "execute_result"
    }
   ],
   "source": [
    "stats.wilcoxon(results_nmse_intel, results_nmse_lintel, alternative=\"greater\")"
   ]
  },
  {
   "cell_type": "code",
   "execution_count": 8,
   "metadata": {},
   "outputs": [
    {
     "data": {
      "text/plain": [
       "(32.334653568267825,\n",
       " 0.49026153067331085,\n",
       " 5.1032544612884525,\n",
       " 0.08673372810271064)"
      ]
     },
     "execution_count": 8,
     "metadata": {},
     "output_type": "execute_result"
    }
   ],
   "source": [
    "np.mean(results_t_intel), np.std(results_t_intel), np.mean(results_t_lintel), np.std(\n",
    "    results_t_lintel\n",
    ")"
   ]
  },
  {
   "cell_type": "code",
   "execution_count": 9,
   "metadata": {},
   "outputs": [
    {
     "data": {
      "image/png": "[encoded data removed]",
      "text/plain": [
       "<Figure size 750x133 with 1 Axes>"
      ]
     },
     "metadata": {},
     "output_type": "display_data"
    }
   ],
   "source": [
    "fig, ax1 = plt.subplots(figsize=(7.5, 1.33))\n",
    "ax1.plot(data_train_t.T, data_train_y.T)\n",
    "ax1.set_ylabel(\"$y(t)$\")\n",
    "ax1.set_xlabel(\"$t$\")\n",
    "plt.savefig(\n",
    "    \"plots/experiment_1_functions.png\", dpi=600, transparent=False, bbox_inches=\"tight\"\n",
    ")"
   ]
  },
  {
   "cell_type": "code",
   "execution_count": 10,
   "metadata": {},
   "outputs": [],
   "source": [
    "data_train_t = np.zeros((len(seeds), 2750))\n",
    "data_train_y = np.zeros((len(seeds), 2750))\n",
    "data_outliers = np.zeros((len(seeds), 10))\n",
    "results_aa_m_intel = np.zeros((len(seeds), 2750))\n",
    "results_aa_m_lintel = np.zeros((len(seeds), 2750))\n",
    "results_aa_s_intel = np.zeros((len(seeds), 2750))\n",
    "results_aa_s_lintel = np.zeros((len(seeds), 2750))\n",
    "results_aa_t_intel = np.zeros((len(seeds),))\n",
    "results_aa_t_lintel = np.zeros((len(seeds),))\n",
    "results_aa_pll_intel = np.zeros((len(seeds),))\n",
    "results_aa_pll_lintel = np.zeros((len(seeds),))\n",
    "results_aa_nmse_intel = np.zeros((len(seeds),))\n",
    "results_aa_nmse_lintel = np.zeros(\n",
    "    (len(seeds)),\n",
    ")\n",
    "\n",
    "for seed in seeds:\n",
    "    data = np.load(f\"results/experiment_1_seed_{seed}_geom_False_data.npz\")\n",
    "    train_t = data[\"train_t\"].squeeze()\n",
    "    pretrain_t = data[\"pretrain_t\"].squeeze()\n",
    "    train_y = data[\"train_y\"]\n",
    "    pretrain_y = data[\"pretrain_y\"]\n",
    "    true_outliers = data[\"true_outliers\"]\n",
    "\n",
    "    data_train_t[seed, :] = train_t\n",
    "    data_train_y[seed, :] = train_y\n",
    "    data_outliers[seed, :] = true_outliers\n",
    "\n",
    "    res_lintel = np.load(\n",
    "        f\"results/experiment_1_seed_{seed}_geom_False_lintel_results.npz\"\n",
    "    )\n",
    "    m_lintel = res_lintel[\"ms\"]\n",
    "    s_lintel = res_lintel[\"ss\"]\n",
    "    o_lintel = res_lintel[\"ots\"]\n",
    "    w_lintel = res_lintel[\"ws\"]\n",
    "    t_lintel = res_lintel[\"t_lintel\"]\n",
    "\n",
    "    res_intel = np.load(\n",
    "        f\"results/experiment_1_seed_{seed}_geom_False_intel_results.npz\"\n",
    "    )\n",
    "    m_intel = res_intel[\"ms\"]\n",
    "    s_intel = res_intel[\"ss\"]\n",
    "    o_intel = res_intel[\"ots\"]\n",
    "    w_intel = res_intel[\"ws\"]\n",
    "    t_intel = res_intel[\"t_intel\"]\n",
    "\n",
    "    results_aa_m_lintel[seed, :] = m_lintel\n",
    "    results_aa_s_lintel[seed, :] = s_lintel\n",
    "    results_aa_m_intel[seed, :] = m_intel\n",
    "    results_aa_s_intel[seed, :] = s_intel\n",
    "    results_aa_t_lintel[seed] = t_lintel\n",
    "    results_aa_t_intel[seed] = t_intel\n",
    "\n",
    "    intel_pll = stats.norm.logpdf(train_y, m_intel, np.sqrt(s_intel))\n",
    "    lintel_pll = stats.norm.logpdf(train_y, m_lintel, np.sqrt(s_lintel))\n",
    "    results_aa_pll_intel[seed] = np.delete(intel_pll, true_outliers).mean()\n",
    "    results_aa_pll_lintel[seed] = np.delete(lintel_pll, true_outliers).mean()\n",
    "\n",
    "    intel_nmse = (train_y - m_intel) ** 2 / np.var(train_y)\n",
    "    lintel_nmse = (train_y - m_lintel) ** 2 / np.var(train_y)\n",
    "    results_aa_nmse_intel[seed] = np.delete(intel_nmse, true_outliers).mean()\n",
    "    results_aa_nmse_lintel[seed] = np.delete(lintel_nmse, true_outliers).mean()"
   ]
  },
  {
   "cell_type": "code",
   "execution_count": 11,
   "metadata": {},
   "outputs": [
    {
     "data": {
      "text/plain": [
       "(-0.37480561745195906,\n",
       " 0.049096125065551804,\n",
       " -0.36540738759837654,\n",
       " 0.038281840940365575)"
      ]
     },
     "execution_count": 11,
     "metadata": {},
     "output_type": "execute_result"
    }
   ],
   "source": [
    "np.mean(results_aa_pll_intel), np.std(results_aa_pll_intel), np.mean(\n",
    "    results_aa_pll_lintel\n",
    "), np.std(results_aa_pll_lintel)"
   ]
  },
  {
   "cell_type": "code",
   "execution_count": 12,
   "metadata": {},
   "outputs": [
    {
     "data": {
      "text/plain": [
       "WilcoxonResult(statistic=2.0, pvalue=0.0029296875)"
      ]
     },
     "execution_count": 12,
     "metadata": {},
     "output_type": "execute_result"
    }
   ],
   "source": [
    "stats.wilcoxon(results_aa_pll_intel, results_aa_pll_lintel, alternative=\"less\")"
   ]
  },
  {
   "cell_type": "code",
   "execution_count": 13,
   "metadata": {},
   "outputs": [
    {
     "data": {
      "text/plain": [
       "WilcoxonResult(statistic=0.0, pvalue=0.0009765625)"
      ]
     },
     "execution_count": 13,
     "metadata": {},
     "output_type": "execute_result"
    }
   ],
   "source": [
    "stats.wilcoxon(results_pll_lintel, results_aa_pll_lintel, alternative=\"less\")"
   ]
  },
  {
   "cell_type": "code",
   "execution_count": 14,
   "metadata": {},
   "outputs": [
    {
     "data": {
      "text/plain": [
       "(0.05536321835517567,\n",
       " 0.014052633849079663,\n",
       " 0.054345719573191655,\n",
       " 0.013137750548840888)"
      ]
     },
     "execution_count": 14,
     "metadata": {},
     "output_type": "execute_result"
    }
   ],
   "source": [
    "np.mean(results_aa_nmse_intel), np.std(results_aa_nmse_intel), np.mean(\n",
    "    results_aa_nmse_lintel\n",
    "), np.std(results_aa_nmse_lintel)"
   ]
  },
  {
   "cell_type": "code",
   "execution_count": 15,
   "metadata": {},
   "outputs": [
    {
     "data": {
      "text/plain": [
       "WilcoxonResult(statistic=54.0, pvalue=0.001953125)"
      ]
     },
     "execution_count": 15,
     "metadata": {},
     "output_type": "execute_result"
    }
   ],
   "source": [
    "stats.wilcoxon(results_aa_nmse_intel,\n",
    "               results_aa_nmse_lintel, alternative=\"greater\")"
   ]
  },
  {
   "cell_type": "code",
   "execution_count": 16,
   "metadata": {},
   "outputs": [
    {
     "data": {
      "text/plain": [
       "(32.327312707901, 0.6791859102165807, 5.438107371330261, 1.100063734520698)"
      ]
     },
     "execution_count": 16,
     "metadata": {},
     "output_type": "execute_result"
    }
   ],
   "source": [
    "np.mean(results_aa_t_intel), np.std(results_aa_t_intel), np.mean(\n",
    "    results_aa_t_lintel\n",
    "), np.std(results_aa_t_lintel)"
   ]
  },
  {
   "cell_type": "code",
   "execution_count": 17,
   "metadata": {},
   "outputs": [
    {
     "data": {
      "text/plain": [
       "WilcoxonResult(statistic=27.0, pvalue=1.0)"
      ]
     },
     "execution_count": 17,
     "metadata": {},
     "output_type": "execute_result"
    }
   ],
   "source": [
    "stats.wilcoxon(results_aa_t_lintel, results_t_lintel, alternative=\"two-sided\")"
   ]
  },
  {
   "cell_type": "code",
   "execution_count": null,
   "metadata": {},
   "outputs": [],
   "source": []
  }
 ],
 "metadata": {
  "kernelspec": {
   "display_name": ".venv",
   "language": "python",
   "name": "python3"
  },
  "language_info": {
   "codemirror_mode": {
    "name": "ipython",
    "version": 3
   },
   "file_extension": ".py",
   "mimetype": "text/x-python",
   "name": "python",
   "nbconvert_exporter": "python",
   "pygments_lexer": "ipython3",
   "version": "3.10.12"
  }
 },
 "nbformat": 4,
 "nbformat_minor": 2
}
